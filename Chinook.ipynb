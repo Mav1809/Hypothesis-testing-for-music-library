{
  "nbformat": 4,
  "nbformat_minor": 0,
  "metadata": {
    "colab": {
      "name": "Chinook",
      "provenance": [],
      "collapsed_sections": []
    },
    "kernelspec": {
      "name": "python3",
      "display_name": "Python 3"
    }
  },
  "cells": [
    {
      "cell_type": "markdown",
      "metadata": {
        "id": "q_1Vgc7M5IC0"
      },
      "source": [
        "# Hypothesis testing for music library\n",
        "#### - Uday Kamal"
      ]
    },
    {
      "cell_type": "markdown",
      "metadata": {
        "id": "CtxAMMkWXzSu"
      },
      "source": [
        "## Introduction\n",
        "While exploring a database of music library which contains data of numerous songs, I wondered if I could use this data to perform a hypothesis testing based on a statement. After exploring different tables in that database I noticed few useful columns (like \"Duration\" column from 'tracks' table) and useful tables like artists, albums, genres and invoices table. Then finally I came to a statement for my analysis.\n",
        "\n",
        "### Statement\n",
        "#### Does a song with a duration higher/lower than the average duration of all the songs affect the business metrics of group like track owner, album owner, artist or genre ?\n",
        "\n",
        "### Methodology\n",
        "For generating the business metrics, I took a sample value of the variables. For example, while generating metrics for artists, I used ArtistId 22 as a sample to get the business metrics for that artist and same procedure is followed for album and genre.\n",
        "1. Tool used for SQL execution - SQLite 3\n",
        "2. Database used for analysis - Chiook Database [Check GitHub for accessing the database]\n",
        "3. Type of hypothesis testing - Independent T-test."
      ]
    },
    {
      "cell_type": "code",
      "metadata": {
        "id": "xPwFDgKKsPQF"
      },
      "source": [
        "#importing esential libraries\n",
        "import pandas as pd\n",
        "import sqlite3 as sql\n",
        "import numpy as np\n",
        "import matplotlib.pyplot as plt\n",
        "import seaborn as sns\n",
        "import plotly.express as px"
      ],
      "execution_count": 1,
      "outputs": []
    },
    {
      "cell_type": "code",
      "metadata": {
        "id": "ZLY-VtAEspwb",
        "colab": {
          "resources": {
            "http://localhost:8080/nbextensions/google.colab/files.js": {
              "data": "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",
              "ok": true,
              "headers": [
                [
                  "content-type",
                  "application/javascript"
                ]
              ],
              "status": 200,
              "status_text": ""
            }
          },
          "base_uri": "https://localhost:8080/",
          "height": 73
        },
        "outputId": "4e6fcab6-9230-48d2-d581-b911f6e1b6a8"
      },
      "source": [
        "from google.colab import files\n",
        "uploaded=files.upload()"
      ],
      "execution_count": 2,
      "outputs": [
        {
          "output_type": "display_data",
          "data": {
            "text/plain": [
              "<IPython.core.display.HTML object>"
            ],
            "text/html": [
              "\n",
              "     <input type=\"file\" id=\"files-dac3d105-e818-4963-8492-72d7558039d1\" name=\"files[]\" multiple disabled\n",
              "        style=\"border:none\" />\n",
              "     <output id=\"result-dac3d105-e818-4963-8492-72d7558039d1\">\n",
              "      Upload widget is only available when the cell has been executed in the\n",
              "      current browser session. Please rerun this cell to enable.\n",
              "      </output>\n",
              "      <script src=\"/nbextensions/google.colab/files.js\"></script> "
            ]
          },
          "metadata": {}
        },
        {
          "output_type": "stream",
          "name": "stdout",
          "text": [
            "Saving chinook.db to chinook.db\n"
          ]
        }
      ]
    },
    {
      "cell_type": "code",
      "metadata": {
        "id": "xHLpTS3BwkJ6"
      },
      "source": [
        "#connecting database\n",
        "db=sql.connect('chinook.db')"
      ],
      "execution_count": 3,
      "outputs": []
    },
    {
      "cell_type": "code",
      "metadata": {
        "id": "MnPQwiFCst6o"
      },
      "source": [
        "#writing a function to execute SQL queries\n",
        "def Q(sql):\n",
        "  res=pd.read_sql_query(sql,db,chunksize=100)\n",
        "  return next(res)"
      ],
      "execution_count": 4,
      "outputs": []
    },
    {
      "cell_type": "markdown",
      "metadata": {
        "id": "UC4oS8pOmfmK"
      },
      "source": [
        "### Generating the metrics using SQL"
      ]
    },
    {
      "cell_type": "markdown",
      "metadata": {
        "id": "dsZ_iKhqcqqG"
      },
      "source": [
        "1. Metrics for tracks"
      ]
    },
    {
      "cell_type": "code",
      "metadata": {
        "id": "CDGs4dEIkJnK"
      },
      "source": [
        "tracks=Q('''SELECT\n",
        "\tHigh_or_Low,\n",
        "\tCOUNT(High_or_Low) AS Number_of_tracks,\n",
        "\tSUM(Tracks_ordered_binary) AS Tracks_ordered\n",
        "FROM \n",
        "(SELECT\n",
        "\tTest_event.TrackId,\n",
        "\tHigh_or_Low,\n",
        "\tMAX(CASE WHEN Test_event.TrackId=invoice_items.TrackId THEN 1 ELSE 0 END) AS Tracks_ordered_binary \n",
        "\t\n",
        "FROM\n",
        "(SELECT\n",
        "\tDuration.TrackId AS TrackId,\n",
        "\tHigh_or_Low\n",
        "FROM \n",
        "(SELECT \n",
        "\tTrackId,\n",
        "\tMAX(CASE WHEN Milliseconds<393599.212103911 THEN 1 ELSE 0 END) AS High_or_Low\n",
        "FROM tracks \n",
        "GROUP BY\n",
        "  TrackId) Duration\n",
        "GROUP by\n",
        "\tTrackId,\n",
        "\tDuration.TrackId\n",
        ") Test_event\n",
        "LEFT JOIN \n",
        "\tinvoice_items\n",
        "ON \n",
        "\tTest_event.TrackId=invoice_items.TrackId\n",
        "GROUP BY\n",
        "\tTest_event.TrackId) test\n",
        "GROUP BY\n",
        "\tHigh_or_Low''')\n",
        "tracks.insert(1,'Average Duration',['High','Low'])\n",
        "tracks=tracks.rename(columns={'Test_Album_Title':'Sample Name of album'})"
      ],
      "execution_count": 5,
      "outputs": []
    },
    {
      "cell_type": "markdown",
      "metadata": {
        "id": "pN00G7CbmnsP"
      },
      "source": [
        "2. Metrics for albums"
      ]
    },
    {
      "cell_type": "code",
      "metadata": {
        "id": "BCrRnmd1kAtw"
      },
      "source": [
        "albums=Q('''SELECT\n",
        "\ttest.Test_Album_Title,\n",
        "\ttest.AlbumId,\n",
        "\tHigh_or_Low,\n",
        "\tCOUNT(High_or_Low) AS Number_of_tracks,\n",
        "\tSUM(Tracks_ordered_binary) AS Tracks_ordered\n",
        "FROM \n",
        "(SELECT\n",
        "\tTest_event.Title AS Test_Album_Title,\n",
        "\tTest_event.AlbumId,\n",
        "\tTest_event.TrackId,\n",
        "\tTest_event.Name,\n",
        "\tHigh_or_Low,\n",
        "\tMAX(CASE WHEN Test_event.TrackId=invoice_items.TrackId THEN 1 ELSE 0 END) AS Tracks_ordered_binary\n",
        "\t\n",
        "FROM\n",
        "(SELECT\n",
        "\talbums.Title AS Title,\n",
        "\tDuration.Name,\n",
        "\tDuration.TrackId AS TrackId,\n",
        "\talbums.AlbumId,\n",
        "\talbums.ArtistId,\n",
        "\tHigh_or_Low\n",
        "FROM \n",
        "(SELECT \n",
        "\tAlbumId,\n",
        "\tName,\n",
        "\tTrackId,\n",
        "\tMAX(CASE WHEN Milliseconds<393599.212103911 THEN 1 ELSE 0 END) AS High_or_Low\n",
        "FROM tracks \n",
        "GROUP BY\n",
        "  TrackId) Duration\n",
        "INNER JOIN\n",
        "\t(SELECT *\n",
        "\tFROM albums\n",
        "\tWHERE AlbumId=20) albums\n",
        "ON\n",
        "\tDuration.AlbumId=albums.AlbumId\n",
        "GROUP by\n",
        "\talbums.Title,\n",
        "\tDuration.TrackId\n",
        ") Test_event\n",
        "LEFT JOIN \n",
        "\tinvoice_items\n",
        "ON \n",
        "\tTest_event.TrackId=invoice_items.TrackId\n",
        "GROUP BY\n",
        "\tTest_event.TrackId) test\n",
        "GROUP BY\n",
        "\tHigh_or_Low''')\n",
        "\n",
        "albums.insert(1,'Average Duration',['High','Low'])\n",
        "albums=albums.rename(columns={'Test_Album_Title':'Sample Name of album'})"
      ],
      "execution_count": 6,
      "outputs": []
    },
    {
      "cell_type": "markdown",
      "metadata": {
        "id": "XVwqv3HSmrHJ"
      },
      "source": [
        "3. Metrics for artists"
      ]
    },
    {
      "cell_type": "code",
      "metadata": {
        "id": "9VCEi1EMk5c6"
      },
      "source": [
        "artists=Q('''SELECT\n",
        "\ttest.Test_Name_of_artist,\n",
        "\ttest.ArtistId AS ArtistId,\n",
        "\tHigh_or_Low,\n",
        "\tCOUNT(High_or_Low) AS Number_of_tracks,\n",
        "\tSUM(Tracks_ordered_binary) AS Tracks_ordered\n",
        "FROM \n",
        "(SELECT\n",
        "\tArtists_.Test_Name_of_artist AS Test_Name_of_artist,\n",
        "\tArtists_.ArtistId,\n",
        "\tArtists_.TrackId,\n",
        "\tHigh_or_Low,\n",
        "\tMAX(CASE WHEN Artists_.TrackId=invoice_items.TrackId THEN 1 ELSE 0 END) AS Tracks_ordered_binary\n",
        "\t\n",
        "FROM\n",
        "(SELECT \n",
        "\tartists.Name AS Test_Name_of_artist,\n",
        "\tArtists.ArtistId AS ArtistId,\n",
        "\tartists.ArtistId AS ArtistId,\n",
        "\tHigh_or_Low,\n",
        "\talbums.TrackId AS TrackId\n",
        "FROM\n",
        "(SELECT\n",
        "\talbums.ArtistId,\n",
        "\tDuration.Name,\n",
        "\tDuration.TrackId AS TrackId,\n",
        "\tHigh_or_Low\n",
        "FROM \n",
        "(SELECT \n",
        "\tAlbumId,\n",
        "\tName,\n",
        "\tTrackId,\n",
        "\tMAX(CASE WHEN Milliseconds<393599.212103911 THEN 1 ELSE 0 END) AS High_or_Low\n",
        "FROM tracks \n",
        "GROUP BY\n",
        "  TrackId) Duration\n",
        "INNER JOIN\n",
        "\talbums\n",
        "ON\n",
        "\tDuration.AlbumId=albums.AlbumId\n",
        "GROUP by\n",
        "\talbums.Title,\n",
        "\tDuration.TrackId\n",
        ") albums\n",
        "INNER JOIN\n",
        "\t(SELECT *\n",
        "\tFROM artists\n",
        "\tWHERE ArtistId=22\n",
        "\t)Artists\n",
        "ON\n",
        "\talbums.ArtistId=Artists.ArtistId\n",
        "GROUP BY\n",
        "\tArtists.Name,\n",
        "\talbums.TrackId) Artists_\n",
        "LEFT JOIN \n",
        "\tinvoice_items\n",
        "ON \n",
        "\tArtists_.TrackId=invoice_items.TrackId\n",
        "GROUP BY\n",
        "\tArtists_.TrackId) test\n",
        "GROUP BY\n",
        "\tHigh_or_Low''')\n",
        "artists.insert(1,'Average Duration',['High','Low'])\n",
        "artists=artists.rename(columns={'Test_Name_of_artist':'Sample Name of artist'})"
      ],
      "execution_count": 7,
      "outputs": []
    },
    {
      "cell_type": "markdown",
      "metadata": {
        "id": "v04vn7jSmtcv"
      },
      "source": [
        "4. Metrics for genre"
      ]
    },
    {
      "cell_type": "code",
      "metadata": {
        "id": "SeNk7Hsdl5lc"
      },
      "source": [
        "genres=Q('''SELECT\n",
        "\ttest.Test_Genre_Name,\n",
        "\tHigh_or_Low,\n",
        "\tCOUNT(High_or_Low) AS Number_of_tracks,\n",
        "\tSUM(Tracks_ordered_binary) AS Tracks_ordered\n",
        "FROM \n",
        "(SELECT\n",
        "\tTest_event.Genre AS Test_Genre_Name,\n",
        "\tTest_event.TrackId,\n",
        "\tTest_event.GenreId AS Test_GenreId,\n",
        "\tHigh_or_Low,\n",
        "\tMAX(CASE WHEN Test_event.TrackId=invoice_items.TrackId THEN 1 ELSE 0 END) AS Tracks_ordered_binary\n",
        "\t\n",
        "FROM\n",
        "(SELECT\n",
        "\tgenres.Name AS Genre,\n",
        "\tgenres.GenreId AS GenreId,\n",
        "\tDuration.Name,\n",
        "\tDuration.TrackId AS TrackId,\n",
        "\tHigh_or_Low\n",
        "FROM \n",
        "(SELECT \n",
        "\tGenreId,\n",
        "\tName,\n",
        "\tTrackId,\n",
        "\tMAX(CASE WHEN Milliseconds<393599.212103911 THEN 1 ELSE 0 END) AS High_or_Low\n",
        "FROM tracks \n",
        "GROUP BY\n",
        "  TrackId) Duration\n",
        "INNER JOIN\n",
        "\t(SELECT *\n",
        "\tFROM genres\n",
        "\tWHERE GenreId=3\n",
        "\t) genres\n",
        "ON\n",
        "\tDuration.GenreId=genres.GenreId\n",
        "GROUP by\n",
        "\tgenres.Name,\n",
        "\tDuration.TrackId\n",
        ") Test_event\n",
        "LEFT JOIN \n",
        "\tinvoice_items\n",
        "ON \n",
        "\tTest_event.TrackId=invoice_items.TrackId\n",
        "GROUP BY\n",
        "\tTest_event.TrackId) test\n",
        "GROUP BY\n",
        "\tHigh_or_Low''')\n",
        "#genres\n",
        "genres.insert(1,'Average Duration',['High','Low'])\n",
        "#genres=genres.replace(to_replace =[0,1],value =['High','Low'])\n",
        "genres=genres.rename(columns={'Test_Genre_Name':'Sample Name of genre'})"
      ],
      "execution_count": 8,
      "outputs": []
    },
    {
      "cell_type": "markdown",
      "metadata": {
        "id": "FOknrJ-Ddsr9"
      },
      "source": [
        "### Metrics in dataframe"
      ]
    },
    {
      "cell_type": "markdown",
      "metadata": {
        "id": "bVhSyU9gdz1H"
      },
      "source": [
        "1. Tracks"
      ]
    },
    {
      "cell_type": "code",
      "metadata": {
        "id": "JjJMIOLWYuBo",
        "colab": {
          "base_uri": "https://localhost:8080/",
          "height": 112
        },
        "outputId": "5c3aba67-3e87-4729-f645-df2deea93475"
      },
      "source": [
        "tracks"
      ],
      "execution_count": 9,
      "outputs": [
        {
          "output_type": "execute_result",
          "data": {
            "text/plain": [
              "   High_or_Low Average Duration  Number_of_tracks  Tracks_ordered\n",
              "0            0             High               494             274\n",
              "1            1              Low              3009            1710"
            ],
            "text/html": [
              "\n",
              "  <div id=\"df-a77ffabe-c879-4149-855d-e3cc768d3355\">\n",
              "    <div class=\"colab-df-container\">\n",
              "      <div>\n",
              "<style scoped>\n",
              "    .dataframe tbody tr th:only-of-type {\n",
              "        vertical-align: middle;\n",
              "    }\n",
              "\n",
              "    .dataframe tbody tr th {\n",
              "        vertical-align: top;\n",
              "    }\n",
              "\n",
              "    .dataframe thead th {\n",
              "        text-align: right;\n",
              "    }\n",
              "</style>\n",
              "<table border=\"1\" class=\"dataframe\">\n",
              "  <thead>\n",
              "    <tr style=\"text-align: right;\">\n",
              "      <th></th>\n",
              "      <th>High_or_Low</th>\n",
              "      <th>Average Duration</th>\n",
              "      <th>Number_of_tracks</th>\n",
              "      <th>Tracks_ordered</th>\n",
              "    </tr>\n",
              "  </thead>\n",
              "  <tbody>\n",
              "    <tr>\n",
              "      <th>0</th>\n",
              "      <td>0</td>\n",
              "      <td>High</td>\n",
              "      <td>494</td>\n",
              "      <td>274</td>\n",
              "    </tr>\n",
              "    <tr>\n",
              "      <th>1</th>\n",
              "      <td>1</td>\n",
              "      <td>Low</td>\n",
              "      <td>3009</td>\n",
              "      <td>1710</td>\n",
              "    </tr>\n",
              "  </tbody>\n",
              "</table>\n",
              "</div>\n",
              "      <button class=\"colab-df-convert\" onclick=\"convertToInteractive('df-a77ffabe-c879-4149-855d-e3cc768d3355')\"\n",
              "              title=\"Convert this dataframe to an interactive table.\"\n",
              "              style=\"display:none;\">\n",
              "        \n",
              "  <svg xmlns=\"http://www.w3.org/2000/svg\" height=\"24px\"viewBox=\"0 0 24 24\"\n",
              "       width=\"24px\">\n",
              "    <path d=\"M0 0h24v24H0V0z\" fill=\"none\"/>\n",
              "    <path d=\"M18.56 5.44l.94 2.06.94-2.06 2.06-.94-2.06-.94-.94-2.06-.94 2.06-2.06.94zm-11 1L8.5 8.5l.94-2.06 2.06-.94-2.06-.94L8.5 2.5l-.94 2.06-2.06.94zm10 10l.94 2.06.94-2.06 2.06-.94-2.06-.94-.94-2.06-.94 2.06-2.06.94z\"/><path d=\"M17.41 7.96l-1.37-1.37c-.4-.4-.92-.59-1.43-.59-.52 0-1.04.2-1.43.59L10.3 9.45l-7.72 7.72c-.78.78-.78 2.05 0 2.83L4 21.41c.39.39.9.59 1.41.59.51 0 1.02-.2 1.41-.59l7.78-7.78 2.81-2.81c.8-.78.8-2.07 0-2.86zM5.41 20L4 18.59l7.72-7.72 1.47 1.35L5.41 20z\"/>\n",
              "  </svg>\n",
              "      </button>\n",
              "      \n",
              "  <style>\n",
              "    .colab-df-container {\n",
              "      display:flex;\n",
              "      flex-wrap:wrap;\n",
              "      gap: 12px;\n",
              "    }\n",
              "\n",
              "    .colab-df-convert {\n",
              "      background-color: #E8F0FE;\n",
              "      border: none;\n",
              "      border-radius: 50%;\n",
              "      cursor: pointer;\n",
              "      display: none;\n",
              "      fill: #1967D2;\n",
              "      height: 32px;\n",
              "      padding: 0 0 0 0;\n",
              "      width: 32px;\n",
              "    }\n",
              "\n",
              "    .colab-df-convert:hover {\n",
              "      background-color: #E2EBFA;\n",
              "      box-shadow: 0px 1px 2px rgba(60, 64, 67, 0.3), 0px 1px 3px 1px rgba(60, 64, 67, 0.15);\n",
              "      fill: #174EA6;\n",
              "    }\n",
              "\n",
              "    [theme=dark] .colab-df-convert {\n",
              "      background-color: #3B4455;\n",
              "      fill: #D2E3FC;\n",
              "    }\n",
              "\n",
              "    [theme=dark] .colab-df-convert:hover {\n",
              "      background-color: #434B5C;\n",
              "      box-shadow: 0px 1px 3px 1px rgba(0, 0, 0, 0.15);\n",
              "      filter: drop-shadow(0px 1px 2px rgba(0, 0, 0, 0.3));\n",
              "      fill: #FFFFFF;\n",
              "    }\n",
              "  </style>\n",
              "\n",
              "      <script>\n",
              "        const buttonEl =\n",
              "          document.querySelector('#df-a77ffabe-c879-4149-855d-e3cc768d3355 button.colab-df-convert');\n",
              "        buttonEl.style.display =\n",
              "          google.colab.kernel.accessAllowed ? 'block' : 'none';\n",
              "\n",
              "        async function convertToInteractive(key) {\n",
              "          const element = document.querySelector('#df-a77ffabe-c879-4149-855d-e3cc768d3355');\n",
              "          const dataTable =\n",
              "            await google.colab.kernel.invokeFunction('convertToInteractive',\n",
              "                                                     [key], {});\n",
              "          if (!dataTable) return;\n",
              "\n",
              "          const docLinkHtml = 'Like what you see? Visit the ' +\n",
              "            '<a target=\"_blank\" href=https://colab.research.google.com/notebooks/data_table.ipynb>data table notebook</a>'\n",
              "            + ' to learn more about interactive tables.';\n",
              "          element.innerHTML = '';\n",
              "          dataTable['output_type'] = 'display_data';\n",
              "          await google.colab.output.renderOutput(dataTable, element);\n",
              "          const docLink = document.createElement('div');\n",
              "          docLink.innerHTML = docLinkHtml;\n",
              "          element.appendChild(docLink);\n",
              "        }\n",
              "      </script>\n",
              "    </div>\n",
              "  </div>\n",
              "  "
            ]
          },
          "metadata": {},
          "execution_count": 9
        }
      ]
    },
    {
      "cell_type": "markdown",
      "metadata": {
        "id": "jzmAYxjVd1kj"
      },
      "source": [
        "2. Artist"
      ]
    },
    {
      "cell_type": "code",
      "metadata": {
        "id": "rgzyxOu-Y3lD",
        "colab": {
          "base_uri": "https://localhost:8080/",
          "height": 112
        },
        "outputId": "18188514-e6fc-424a-ba73-bbf70f2b055c"
      },
      "source": [
        "artists"
      ],
      "execution_count": 10,
      "outputs": [
        {
          "output_type": "execute_result",
          "data": {
            "text/plain": [
              "  Sample Name of artist Average Duration  ArtistId  High_or_Low  \\\n",
              "0          Led Zeppelin             High        22            0   \n",
              "1          Led Zeppelin              Low        22            1   \n",
              "\n",
              "   Number_of_tracks  Tracks_ordered  \n",
              "0                28              19  \n",
              "1                86              58  "
            ],
            "text/html": [
              "\n",
              "  <div id=\"df-954fe8fc-8185-4324-8aee-1e1178306c27\">\n",
              "    <div class=\"colab-df-container\">\n",
              "      <div>\n",
              "<style scoped>\n",
              "    .dataframe tbody tr th:only-of-type {\n",
              "        vertical-align: middle;\n",
              "    }\n",
              "\n",
              "    .dataframe tbody tr th {\n",
              "        vertical-align: top;\n",
              "    }\n",
              "\n",
              "    .dataframe thead th {\n",
              "        text-align: right;\n",
              "    }\n",
              "</style>\n",
              "<table border=\"1\" class=\"dataframe\">\n",
              "  <thead>\n",
              "    <tr style=\"text-align: right;\">\n",
              "      <th></th>\n",
              "      <th>Sample Name of artist</th>\n",
              "      <th>Average Duration</th>\n",
              "      <th>ArtistId</th>\n",
              "      <th>High_or_Low</th>\n",
              "      <th>Number_of_tracks</th>\n",
              "      <th>Tracks_ordered</th>\n",
              "    </tr>\n",
              "  </thead>\n",
              "  <tbody>\n",
              "    <tr>\n",
              "      <th>0</th>\n",
              "      <td>Led Zeppelin</td>\n",
              "      <td>High</td>\n",
              "      <td>22</td>\n",
              "      <td>0</td>\n",
              "      <td>28</td>\n",
              "      <td>19</td>\n",
              "    </tr>\n",
              "    <tr>\n",
              "      <th>1</th>\n",
              "      <td>Led Zeppelin</td>\n",
              "      <td>Low</td>\n",
              "      <td>22</td>\n",
              "      <td>1</td>\n",
              "      <td>86</td>\n",
              "      <td>58</td>\n",
              "    </tr>\n",
              "  </tbody>\n",
              "</table>\n",
              "</div>\n",
              "      <button class=\"colab-df-convert\" onclick=\"convertToInteractive('df-954fe8fc-8185-4324-8aee-1e1178306c27')\"\n",
              "              title=\"Convert this dataframe to an interactive table.\"\n",
              "              style=\"display:none;\">\n",
              "        \n",
              "  <svg xmlns=\"http://www.w3.org/2000/svg\" height=\"24px\"viewBox=\"0 0 24 24\"\n",
              "       width=\"24px\">\n",
              "    <path d=\"M0 0h24v24H0V0z\" fill=\"none\"/>\n",
              "    <path d=\"M18.56 5.44l.94 2.06.94-2.06 2.06-.94-2.06-.94-.94-2.06-.94 2.06-2.06.94zm-11 1L8.5 8.5l.94-2.06 2.06-.94-2.06-.94L8.5 2.5l-.94 2.06-2.06.94zm10 10l.94 2.06.94-2.06 2.06-.94-2.06-.94-.94-2.06-.94 2.06-2.06.94z\"/><path d=\"M17.41 7.96l-1.37-1.37c-.4-.4-.92-.59-1.43-.59-.52 0-1.04.2-1.43.59L10.3 9.45l-7.72 7.72c-.78.78-.78 2.05 0 2.83L4 21.41c.39.39.9.59 1.41.59.51 0 1.02-.2 1.41-.59l7.78-7.78 2.81-2.81c.8-.78.8-2.07 0-2.86zM5.41 20L4 18.59l7.72-7.72 1.47 1.35L5.41 20z\"/>\n",
              "  </svg>\n",
              "      </button>\n",
              "      \n",
              "  <style>\n",
              "    .colab-df-container {\n",
              "      display:flex;\n",
              "      flex-wrap:wrap;\n",
              "      gap: 12px;\n",
              "    }\n",
              "\n",
              "    .colab-df-convert {\n",
              "      background-color: #E8F0FE;\n",
              "      border: none;\n",
              "      border-radius: 50%;\n",
              "      cursor: pointer;\n",
              "      display: none;\n",
              "      fill: #1967D2;\n",
              "      height: 32px;\n",
              "      padding: 0 0 0 0;\n",
              "      width: 32px;\n",
              "    }\n",
              "\n",
              "    .colab-df-convert:hover {\n",
              "      background-color: #E2EBFA;\n",
              "      box-shadow: 0px 1px 2px rgba(60, 64, 67, 0.3), 0px 1px 3px 1px rgba(60, 64, 67, 0.15);\n",
              "      fill: #174EA6;\n",
              "    }\n",
              "\n",
              "    [theme=dark] .colab-df-convert {\n",
              "      background-color: #3B4455;\n",
              "      fill: #D2E3FC;\n",
              "    }\n",
              "\n",
              "    [theme=dark] .colab-df-convert:hover {\n",
              "      background-color: #434B5C;\n",
              "      box-shadow: 0px 1px 3px 1px rgba(0, 0, 0, 0.15);\n",
              "      filter: drop-shadow(0px 1px 2px rgba(0, 0, 0, 0.3));\n",
              "      fill: #FFFFFF;\n",
              "    }\n",
              "  </style>\n",
              "\n",
              "      <script>\n",
              "        const buttonEl =\n",
              "          document.querySelector('#df-954fe8fc-8185-4324-8aee-1e1178306c27 button.colab-df-convert');\n",
              "        buttonEl.style.display =\n",
              "          google.colab.kernel.accessAllowed ? 'block' : 'none';\n",
              "\n",
              "        async function convertToInteractive(key) {\n",
              "          const element = document.querySelector('#df-954fe8fc-8185-4324-8aee-1e1178306c27');\n",
              "          const dataTable =\n",
              "            await google.colab.kernel.invokeFunction('convertToInteractive',\n",
              "                                                     [key], {});\n",
              "          if (!dataTable) return;\n",
              "\n",
              "          const docLinkHtml = 'Like what you see? Visit the ' +\n",
              "            '<a target=\"_blank\" href=https://colab.research.google.com/notebooks/data_table.ipynb>data table notebook</a>'\n",
              "            + ' to learn more about interactive tables.';\n",
              "          element.innerHTML = '';\n",
              "          dataTable['output_type'] = 'display_data';\n",
              "          await google.colab.output.renderOutput(dataTable, element);\n",
              "          const docLink = document.createElement('div');\n",
              "          docLink.innerHTML = docLinkHtml;\n",
              "          element.appendChild(docLink);\n",
              "        }\n",
              "      </script>\n",
              "    </div>\n",
              "  </div>\n",
              "  "
            ]
          },
          "metadata": {},
          "execution_count": 10
        }
      ]
    },
    {
      "cell_type": "markdown",
      "metadata": {
        "id": "WSJkkiwTd44G"
      },
      "source": [
        "3. Album"
      ]
    },
    {
      "cell_type": "code",
      "metadata": {
        "id": "RydPZFI0Y3QD",
        "colab": {
          "base_uri": "https://localhost:8080/",
          "height": 112
        },
        "outputId": "ba1c89b1-c05f-4ec0-932b-76e444434729"
      },
      "source": [
        "albums"
      ],
      "execution_count": 11,
      "outputs": [
        {
          "output_type": "execute_result",
          "data": {
            "text/plain": [
              "                               Sample Name of album Average Duration  AlbumId  \\\n",
              "0  The Best Of Buddy Guy - The Millenium Collection             High       20   \n",
              "1  The Best Of Buddy Guy - The Millenium Collection              Low       20   \n",
              "\n",
              "   High_or_Low  Number_of_tracks  Tracks_ordered  \n",
              "0            0                 2               1  \n",
              "1            1                 9               5  "
            ],
            "text/html": [
              "\n",
              "  <div id=\"df-7bdb948a-d186-4678-815c-e1f6eb716a6e\">\n",
              "    <div class=\"colab-df-container\">\n",
              "      <div>\n",
              "<style scoped>\n",
              "    .dataframe tbody tr th:only-of-type {\n",
              "        vertical-align: middle;\n",
              "    }\n",
              "\n",
              "    .dataframe tbody tr th {\n",
              "        vertical-align: top;\n",
              "    }\n",
              "\n",
              "    .dataframe thead th {\n",
              "        text-align: right;\n",
              "    }\n",
              "</style>\n",
              "<table border=\"1\" class=\"dataframe\">\n",
              "  <thead>\n",
              "    <tr style=\"text-align: right;\">\n",
              "      <th></th>\n",
              "      <th>Sample Name of album</th>\n",
              "      <th>Average Duration</th>\n",
              "      <th>AlbumId</th>\n",
              "      <th>High_or_Low</th>\n",
              "      <th>Number_of_tracks</th>\n",
              "      <th>Tracks_ordered</th>\n",
              "    </tr>\n",
              "  </thead>\n",
              "  <tbody>\n",
              "    <tr>\n",
              "      <th>0</th>\n",
              "      <td>The Best Of Buddy Guy - The Millenium Collection</td>\n",
              "      <td>High</td>\n",
              "      <td>20</td>\n",
              "      <td>0</td>\n",
              "      <td>2</td>\n",
              "      <td>1</td>\n",
              "    </tr>\n",
              "    <tr>\n",
              "      <th>1</th>\n",
              "      <td>The Best Of Buddy Guy - The Millenium Collection</td>\n",
              "      <td>Low</td>\n",
              "      <td>20</td>\n",
              "      <td>1</td>\n",
              "      <td>9</td>\n",
              "      <td>5</td>\n",
              "    </tr>\n",
              "  </tbody>\n",
              "</table>\n",
              "</div>\n",
              "      <button class=\"colab-df-convert\" onclick=\"convertToInteractive('df-7bdb948a-d186-4678-815c-e1f6eb716a6e')\"\n",
              "              title=\"Convert this dataframe to an interactive table.\"\n",
              "              style=\"display:none;\">\n",
              "        \n",
              "  <svg xmlns=\"http://www.w3.org/2000/svg\" height=\"24px\"viewBox=\"0 0 24 24\"\n",
              "       width=\"24px\">\n",
              "    <path d=\"M0 0h24v24H0V0z\" fill=\"none\"/>\n",
              "    <path d=\"M18.56 5.44l.94 2.06.94-2.06 2.06-.94-2.06-.94-.94-2.06-.94 2.06-2.06.94zm-11 1L8.5 8.5l.94-2.06 2.06-.94-2.06-.94L8.5 2.5l-.94 2.06-2.06.94zm10 10l.94 2.06.94-2.06 2.06-.94-2.06-.94-.94-2.06-.94 2.06-2.06.94z\"/><path d=\"M17.41 7.96l-1.37-1.37c-.4-.4-.92-.59-1.43-.59-.52 0-1.04.2-1.43.59L10.3 9.45l-7.72 7.72c-.78.78-.78 2.05 0 2.83L4 21.41c.39.39.9.59 1.41.59.51 0 1.02-.2 1.41-.59l7.78-7.78 2.81-2.81c.8-.78.8-2.07 0-2.86zM5.41 20L4 18.59l7.72-7.72 1.47 1.35L5.41 20z\"/>\n",
              "  </svg>\n",
              "      </button>\n",
              "      \n",
              "  <style>\n",
              "    .colab-df-container {\n",
              "      display:flex;\n",
              "      flex-wrap:wrap;\n",
              "      gap: 12px;\n",
              "    }\n",
              "\n",
              "    .colab-df-convert {\n",
              "      background-color: #E8F0FE;\n",
              "      border: none;\n",
              "      border-radius: 50%;\n",
              "      cursor: pointer;\n",
              "      display: none;\n",
              "      fill: #1967D2;\n",
              "      height: 32px;\n",
              "      padding: 0 0 0 0;\n",
              "      width: 32px;\n",
              "    }\n",
              "\n",
              "    .colab-df-convert:hover {\n",
              "      background-color: #E2EBFA;\n",
              "      box-shadow: 0px 1px 2px rgba(60, 64, 67, 0.3), 0px 1px 3px 1px rgba(60, 64, 67, 0.15);\n",
              "      fill: #174EA6;\n",
              "    }\n",
              "\n",
              "    [theme=dark] .colab-df-convert {\n",
              "      background-color: #3B4455;\n",
              "      fill: #D2E3FC;\n",
              "    }\n",
              "\n",
              "    [theme=dark] .colab-df-convert:hover {\n",
              "      background-color: #434B5C;\n",
              "      box-shadow: 0px 1px 3px 1px rgba(0, 0, 0, 0.15);\n",
              "      filter: drop-shadow(0px 1px 2px rgba(0, 0, 0, 0.3));\n",
              "      fill: #FFFFFF;\n",
              "    }\n",
              "  </style>\n",
              "\n",
              "      <script>\n",
              "        const buttonEl =\n",
              "          document.querySelector('#df-7bdb948a-d186-4678-815c-e1f6eb716a6e button.colab-df-convert');\n",
              "        buttonEl.style.display =\n",
              "          google.colab.kernel.accessAllowed ? 'block' : 'none';\n",
              "\n",
              "        async function convertToInteractive(key) {\n",
              "          const element = document.querySelector('#df-7bdb948a-d186-4678-815c-e1f6eb716a6e');\n",
              "          const dataTable =\n",
              "            await google.colab.kernel.invokeFunction('convertToInteractive',\n",
              "                                                     [key], {});\n",
              "          if (!dataTable) return;\n",
              "\n",
              "          const docLinkHtml = 'Like what you see? Visit the ' +\n",
              "            '<a target=\"_blank\" href=https://colab.research.google.com/notebooks/data_table.ipynb>data table notebook</a>'\n",
              "            + ' to learn more about interactive tables.';\n",
              "          element.innerHTML = '';\n",
              "          dataTable['output_type'] = 'display_data';\n",
              "          await google.colab.output.renderOutput(dataTable, element);\n",
              "          const docLink = document.createElement('div');\n",
              "          docLink.innerHTML = docLinkHtml;\n",
              "          element.appendChild(docLink);\n",
              "        }\n",
              "      </script>\n",
              "    </div>\n",
              "  </div>\n",
              "  "
            ]
          },
          "metadata": {},
          "execution_count": 11
        }
      ]
    },
    {
      "cell_type": "markdown",
      "metadata": {
        "id": "-ZNmlKgcd6eU"
      },
      "source": [
        "4. Genre"
      ]
    },
    {
      "cell_type": "code",
      "metadata": {
        "id": "WD8mknfQY3Ez",
        "colab": {
          "base_uri": "https://localhost:8080/",
          "height": 112
        },
        "outputId": "2016a043-0638-40ab-9021-830ff7452bbe"
      },
      "source": [
        "genres"
      ],
      "execution_count": 12,
      "outputs": [
        {
          "output_type": "execute_result",
          "data": {
            "text/plain": [
              "  Sample Name of genre Average Duration  High_or_Low  Number_of_tracks  \\\n",
              "0                Metal             High            0                74   \n",
              "1                Metal              Low            1               300   \n",
              "\n",
              "   Tracks_ordered  \n",
              "0              50  \n",
              "1             181  "
            ],
            "text/html": [
              "\n",
              "  <div id=\"df-1d16536e-9378-40a9-9f7e-c0235fa322f0\">\n",
              "    <div class=\"colab-df-container\">\n",
              "      <div>\n",
              "<style scoped>\n",
              "    .dataframe tbody tr th:only-of-type {\n",
              "        vertical-align: middle;\n",
              "    }\n",
              "\n",
              "    .dataframe tbody tr th {\n",
              "        vertical-align: top;\n",
              "    }\n",
              "\n",
              "    .dataframe thead th {\n",
              "        text-align: right;\n",
              "    }\n",
              "</style>\n",
              "<table border=\"1\" class=\"dataframe\">\n",
              "  <thead>\n",
              "    <tr style=\"text-align: right;\">\n",
              "      <th></th>\n",
              "      <th>Sample Name of genre</th>\n",
              "      <th>Average Duration</th>\n",
              "      <th>High_or_Low</th>\n",
              "      <th>Number_of_tracks</th>\n",
              "      <th>Tracks_ordered</th>\n",
              "    </tr>\n",
              "  </thead>\n",
              "  <tbody>\n",
              "    <tr>\n",
              "      <th>0</th>\n",
              "      <td>Metal</td>\n",
              "      <td>High</td>\n",
              "      <td>0</td>\n",
              "      <td>74</td>\n",
              "      <td>50</td>\n",
              "    </tr>\n",
              "    <tr>\n",
              "      <th>1</th>\n",
              "      <td>Metal</td>\n",
              "      <td>Low</td>\n",
              "      <td>1</td>\n",
              "      <td>300</td>\n",
              "      <td>181</td>\n",
              "    </tr>\n",
              "  </tbody>\n",
              "</table>\n",
              "</div>\n",
              "      <button class=\"colab-df-convert\" onclick=\"convertToInteractive('df-1d16536e-9378-40a9-9f7e-c0235fa322f0')\"\n",
              "              title=\"Convert this dataframe to an interactive table.\"\n",
              "              style=\"display:none;\">\n",
              "        \n",
              "  <svg xmlns=\"http://www.w3.org/2000/svg\" height=\"24px\"viewBox=\"0 0 24 24\"\n",
              "       width=\"24px\">\n",
              "    <path d=\"M0 0h24v24H0V0z\" fill=\"none\"/>\n",
              "    <path d=\"M18.56 5.44l.94 2.06.94-2.06 2.06-.94-2.06-.94-.94-2.06-.94 2.06-2.06.94zm-11 1L8.5 8.5l.94-2.06 2.06-.94-2.06-.94L8.5 2.5l-.94 2.06-2.06.94zm10 10l.94 2.06.94-2.06 2.06-.94-2.06-.94-.94-2.06-.94 2.06-2.06.94z\"/><path d=\"M17.41 7.96l-1.37-1.37c-.4-.4-.92-.59-1.43-.59-.52 0-1.04.2-1.43.59L10.3 9.45l-7.72 7.72c-.78.78-.78 2.05 0 2.83L4 21.41c.39.39.9.59 1.41.59.51 0 1.02-.2 1.41-.59l7.78-7.78 2.81-2.81c.8-.78.8-2.07 0-2.86zM5.41 20L4 18.59l7.72-7.72 1.47 1.35L5.41 20z\"/>\n",
              "  </svg>\n",
              "      </button>\n",
              "      \n",
              "  <style>\n",
              "    .colab-df-container {\n",
              "      display:flex;\n",
              "      flex-wrap:wrap;\n",
              "      gap: 12px;\n",
              "    }\n",
              "\n",
              "    .colab-df-convert {\n",
              "      background-color: #E8F0FE;\n",
              "      border: none;\n",
              "      border-radius: 50%;\n",
              "      cursor: pointer;\n",
              "      display: none;\n",
              "      fill: #1967D2;\n",
              "      height: 32px;\n",
              "      padding: 0 0 0 0;\n",
              "      width: 32px;\n",
              "    }\n",
              "\n",
              "    .colab-df-convert:hover {\n",
              "      background-color: #E2EBFA;\n",
              "      box-shadow: 0px 1px 2px rgba(60, 64, 67, 0.3), 0px 1px 3px 1px rgba(60, 64, 67, 0.15);\n",
              "      fill: #174EA6;\n",
              "    }\n",
              "\n",
              "    [theme=dark] .colab-df-convert {\n",
              "      background-color: #3B4455;\n",
              "      fill: #D2E3FC;\n",
              "    }\n",
              "\n",
              "    [theme=dark] .colab-df-convert:hover {\n",
              "      background-color: #434B5C;\n",
              "      box-shadow: 0px 1px 3px 1px rgba(0, 0, 0, 0.15);\n",
              "      filter: drop-shadow(0px 1px 2px rgba(0, 0, 0, 0.3));\n",
              "      fill: #FFFFFF;\n",
              "    }\n",
              "  </style>\n",
              "\n",
              "      <script>\n",
              "        const buttonEl =\n",
              "          document.querySelector('#df-1d16536e-9378-40a9-9f7e-c0235fa322f0 button.colab-df-convert');\n",
              "        buttonEl.style.display =\n",
              "          google.colab.kernel.accessAllowed ? 'block' : 'none';\n",
              "\n",
              "        async function convertToInteractive(key) {\n",
              "          const element = document.querySelector('#df-1d16536e-9378-40a9-9f7e-c0235fa322f0');\n",
              "          const dataTable =\n",
              "            await google.colab.kernel.invokeFunction('convertToInteractive',\n",
              "                                                     [key], {});\n",
              "          if (!dataTable) return;\n",
              "\n",
              "          const docLinkHtml = 'Like what you see? Visit the ' +\n",
              "            '<a target=\"_blank\" href=https://colab.research.google.com/notebooks/data_table.ipynb>data table notebook</a>'\n",
              "            + ' to learn more about interactive tables.';\n",
              "          element.innerHTML = '';\n",
              "          dataTable['output_type'] = 'display_data';\n",
              "          await google.colab.output.renderOutput(dataTable, element);\n",
              "          const docLink = document.createElement('div');\n",
              "          docLink.innerHTML = docLinkHtml;\n",
              "          element.appendChild(docLink);\n",
              "        }\n",
              "      </script>\n",
              "    </div>\n",
              "  </div>\n",
              "  "
            ]
          },
          "metadata": {},
          "execution_count": 12
        }
      ]
    },
    {
      "cell_type": "markdown",
      "metadata": {
        "id": "PPbFYQDheAkk"
      },
      "source": [
        "### Visualising the mterics"
      ]
    },
    {
      "cell_type": "markdown",
      "metadata": {
        "id": "ASF1EK8NeEQc"
      },
      "source": [
        "1. Tracks"
      ]
    },
    {
      "cell_type": "code",
      "metadata": {
        "id": "pMxm2a-zyMLO",
        "colab": {
          "base_uri": "https://localhost:8080/",
          "height": 363
        },
        "outputId": "21ebe5e8-3b6b-4014-bd77-5e779394c3c5"
      },
      "source": [
        "#plt.figure(figsize=(20,10))\n",
        "tracks.plot(x='Average Duration',y=['Number_of_tracks','Tracks_ordered'],kind='bar')\n",
        "plt.title('Busines metrics for tracks')\n",
        "plt.gcf().set_size_inches(15,5)"
      ],
      "execution_count": 13,
      "outputs": [
        {
          "output_type": "display_data",
          "data": {
            "text/plain": [
              "<Figure size 1080x360 with 1 Axes>"
            ],
            "image/png": "[encoded data removed]"
          },
          "metadata": {
            "needs_background": "light"
          }
        }
      ]
    },
    {
      "cell_type": "markdown",
      "metadata": {
        "id": "cf2XeD0yeHCU"
      },
      "source": [
        "2. Album"
      ]
    },
    {
      "cell_type": "code",
      "metadata": {
        "id": "oTuU6N2uzN77",
        "colab": {
          "base_uri": "https://localhost:8080/",
          "height": 363
        },
        "outputId": "c8fb4d29-6a9f-4fb4-bf89-497741a5e720"
      },
      "source": [
        "albums.plot(x='Average Duration',y=['Number_of_tracks','Tracks_ordered'],kind='bar')\n",
        "plt.title('Busines metrics for sample AlbumId 20 (The Best Of Buddy Guy - The Millenium Collection)')\n",
        "plt.gcf().set_size_inches(15,5)"
      ],
      "execution_count": 14,
      "outputs": [
        {
          "output_type": "display_data",
          "data": {
            "text/plain": [
              "<Figure size 1080x360 with 1 Axes>"
            ],
            "image/png": "[encoded data removed]"
          },
          "metadata": {
            "needs_background": "light"
          }
        }
      ]
    },
    {
      "cell_type": "markdown",
      "metadata": {
        "id": "xZJ6v-76eIyl"
      },
      "source": [
        "3. Artist\n"
      ]
    },
    {
      "cell_type": "code",
      "metadata": {
        "id": "_j8RrVuAzsdb",
        "colab": {
          "base_uri": "https://localhost:8080/",
          "height": 363
        },
        "outputId": "c4fa196c-d73a-438e-c9c4-0b3d74c91aa5"
      },
      "source": [
        "artists.plot(x='Average Duration',y=['Number_of_tracks','Tracks_ordered'],kind='bar')\n",
        "plt.title('Busines metrics for sample ArtistId 22 (Led Zeppelin)')\n",
        "plt.gcf().set_size_inches(15,5)"
      ],
      "execution_count": 15,
      "outputs": [
        {
          "output_type": "display_data",
          "data": {
            "text/plain": [
              "<Figure size 1080x360 with 1 Axes>"
            ],
            "image/png": "[encoded data removed]"
          },
          "metadata": {
            "needs_background": "light"
          }
        }
      ]
    },
    {
      "cell_type": "markdown",
      "metadata": {
        "id": "BCDCT6teeKrx"
      },
      "source": [
        "4. Genre"
      ]
    },
    {
      "cell_type": "code",
      "metadata": {
        "id": "cFjgtzcN0SHn",
        "colab": {
          "base_uri": "https://localhost:8080/",
          "height": 363
        },
        "outputId": "b033bfa8-96ed-4a8d-8fbc-d5370ae77854"
      },
      "source": [
        "genres.plot(x='Average Duration',y=['Number_of_tracks','Tracks_ordered'],kind='bar')\n",
        "plt.title('Busines metrics for sample Genre (Metal)')\n",
        "plt.gcf().set_size_inches(15,5)"
      ],
      "execution_count": 16,
      "outputs": [
        {
          "output_type": "display_data",
          "data": {
            "text/plain": [
              "<Figure size 1080x360 with 1 Axes>"
            ],
            "image/png": "[encoded data removed]"
          },
          "metadata": {
            "needs_background": "light"
          }
        }
      ]
    },
    {
      "cell_type": "markdown",
      "metadata": {
        "id": "eYD7dywOeMV5"
      },
      "source": [
        "### **Hypothesis Testing using T-test**\n",
        "A t-test is a type of inferential statistic used to determine if there is a significant difference between the means of two groups, which may be related in certain features. It is mostly used when the data sets, like the data set recorded as the outcome from flipping a coin 100 times, would follow a normal distribution and may have unknown variances. A t-test is used as a hypothesis testing tool, which allows testing of an assumption applicable to a population. \n",
        "#### **Understanding $\\alpha$ and p-value**\n",
        "\n",
        "*   The p-value is the probability of rejecting the null hypothesis ($H_0$) when the null hypothesis is true. In other words, it gives the likelihood of alternate hypothesis ($H_a$) when the null hypothesis is true.\n",
        "* For example, if $H_0$ = 100 & $H_a$ >= 100, and if we get a p-value of 0.02, then it means that there is a 2% chance of getting a value of 100 or more.\n",
        "*   $\\alpha$ denotes the measure of Significance level and is usually kept at 0.05\n",
        "* If p-value is greater than $\\alpha$ then we fail to reject null hypothesis ($H_0$)\n",
        "* If p-value is smaller than $\\alpha$ then we reject the null hypothesis and accept alternate hypothesis ($H_a$).\n",
        "\n",
        "\n",
        " \n",
        "Now we can perform this test in python using the scipy.stats library. But first lets state our null hypothesis ($H_0$) and alternate hypothesis ($H_a$).\n",
        "\n",
        "### $H_0$ : There is no difference in total number of orders with respect to the duration of the songs. \n",
        "### $H_a$ : There is a significant difference in total number of orders with respect to the duration of the songs."
      ]
    },
    {
      "cell_type": "code",
      "metadata": {
        "id": "E1mLX-PyuqDN"
      },
      "source": [
        "import scipy.stats"
      ],
      "execution_count": 20,
      "outputs": []
    },
    {
      "cell_type": "markdown",
      "metadata": {
        "id": "RJrA95JAedz4"
      },
      "source": [
        "I am using the T-test between 'High_or_Low' column & 'Tracks_ordered' in every dataframe metric obtained previously and assigning a variable to each of them respectively."
      ]
    },
    {
      "cell_type": "code",
      "metadata": {
        "id": "3hh0300G1nB-"
      },
      "source": [
        "test_track=scipy.stats.ttest_ind(tracks['Number_of_tracks'],tracks['Tracks_ordered'])\n",
        "test_album=scipy.stats.ttest_ind(albums['Number_of_tracks'],albums['Tracks_ordered'])\n",
        "test_artist=scipy.stats.ttest_ind(artists['Number_of_tracks'],artists['Tracks_ordered'])\n",
        "test_genre=scipy.stats.ttest_ind(genres['Number_of_tracks'],genres['Tracks_ordered'])"
      ],
      "execution_count": 21,
      "outputs": []
    },
    {
      "cell_type": "markdown",
      "metadata": {
        "id": "To3Si3B3fATR"
      },
      "source": [
        "As the P-value for all the metrics have been obtained, lets create a dataframe which contains a column for name of the metrics and column of p-value for the correponding metric as shown."
      ]
    },
    {
      "cell_type": "markdown",
      "metadata": {
        "id": "GN1ud7eNlqqj"
      },
      "source": [
        "### Results"
      ]
    },
    {
      "cell_type": "code",
      "metadata": {
        "id": "nEpqYBGd8DNB",
        "colab": {
          "base_uri": "https://localhost:8080/",
          "height": 175
        },
        "outputId": "1b350e85-9568-4773-ea44-4642ee109be6"
      },
      "source": [
        "data = [['Tracks', test_track[1]], ['Albums', test_album[1]], ['Artists', test_artist[1]],['Genres',test_genre[1]]]\n",
        "df = pd.DataFrame(data, columns = ['Metric', 'P-value'])\n",
        "df"
      ],
      "execution_count": 22,
      "outputs": [
        {
          "output_type": "execute_result",
          "data": {
            "text/plain": [
              "    Metric   P-value\n",
              "0   Tracks  0.652267\n",
              "1   Albums  0.598390\n",
              "2  Artists  0.649427\n",
              "3   Genres  0.639012"
            ],
            "text/html": [
              "\n",
              "  <div id=\"df-71332a28-6248-4ccb-b32a-f21010804912\">\n",
              "    <div class=\"colab-df-container\">\n",
              "      <div>\n",
              "<style scoped>\n",
              "    .dataframe tbody tr th:only-of-type {\n",
              "        vertical-align: middle;\n",
              "    }\n",
              "\n",
              "    .dataframe tbody tr th {\n",
              "        vertical-align: top;\n",
              "    }\n",
              "\n",
              "    .dataframe thead th {\n",
              "        text-align: right;\n",
              "    }\n",
              "</style>\n",
              "<table border=\"1\" class=\"dataframe\">\n",
              "  <thead>\n",
              "    <tr style=\"text-align: right;\">\n",
              "      <th></th>\n",
              "      <th>Metric</th>\n",
              "      <th>P-value</th>\n",
              "    </tr>\n",
              "  </thead>\n",
              "  <tbody>\n",
              "    <tr>\n",
              "      <th>0</th>\n",
              "      <td>Tracks</td>\n",
              "      <td>0.652267</td>\n",
              "    </tr>\n",
              "    <tr>\n",
              "      <th>1</th>\n",
              "      <td>Albums</td>\n",
              "      <td>0.598390</td>\n",
              "    </tr>\n",
              "    <tr>\n",
              "      <th>2</th>\n",
              "      <td>Artists</td>\n",
              "      <td>0.649427</td>\n",
              "    </tr>\n",
              "    <tr>\n",
              "      <th>3</th>\n",
              "      <td>Genres</td>\n",
              "      <td>0.639012</td>\n",
              "    </tr>\n",
              "  </tbody>\n",
              "</table>\n",
              "</div>\n",
              "      <button class=\"colab-df-convert\" onclick=\"convertToInteractive('df-71332a28-6248-4ccb-b32a-f21010804912')\"\n",
              "              title=\"Convert this dataframe to an interactive table.\"\n",
              "              style=\"display:none;\">\n",
              "        \n",
              "  <svg xmlns=\"http://www.w3.org/2000/svg\" height=\"24px\"viewBox=\"0 0 24 24\"\n",
              "       width=\"24px\">\n",
              "    <path d=\"M0 0h24v24H0V0z\" fill=\"none\"/>\n",
              "    <path d=\"M18.56 5.44l.94 2.06.94-2.06 2.06-.94-2.06-.94-.94-2.06-.94 2.06-2.06.94zm-11 1L8.5 8.5l.94-2.06 2.06-.94-2.06-.94L8.5 2.5l-.94 2.06-2.06.94zm10 10l.94 2.06.94-2.06 2.06-.94-2.06-.94-.94-2.06-.94 2.06-2.06.94z\"/><path d=\"M17.41 7.96l-1.37-1.37c-.4-.4-.92-.59-1.43-.59-.52 0-1.04.2-1.43.59L10.3 9.45l-7.72 7.72c-.78.78-.78 2.05 0 2.83L4 21.41c.39.39.9.59 1.41.59.51 0 1.02-.2 1.41-.59l7.78-7.78 2.81-2.81c.8-.78.8-2.07 0-2.86zM5.41 20L4 18.59l7.72-7.72 1.47 1.35L5.41 20z\"/>\n",
              "  </svg>\n",
              "      </button>\n",
              "      \n",
              "  <style>\n",
              "    .colab-df-container {\n",
              "      display:flex;\n",
              "      flex-wrap:wrap;\n",
              "      gap: 12px;\n",
              "    }\n",
              "\n",
              "    .colab-df-convert {\n",
              "      background-color: #E8F0FE;\n",
              "      border: none;\n",
              "      border-radius: 50%;\n",
              "      cursor: pointer;\n",
              "      display: none;\n",
              "      fill: #1967D2;\n",
              "      height: 32px;\n",
              "      padding: 0 0 0 0;\n",
              "      width: 32px;\n",
              "    }\n",
              "\n",
              "    .colab-df-convert:hover {\n",
              "      background-color: #E2EBFA;\n",
              "      box-shadow: 0px 1px 2px rgba(60, 64, 67, 0.3), 0px 1px 3px 1px rgba(60, 64, 67, 0.15);\n",
              "      fill: #174EA6;\n",
              "    }\n",
              "\n",
              "    [theme=dark] .colab-df-convert {\n",
              "      background-color: #3B4455;\n",
              "      fill: #D2E3FC;\n",
              "    }\n",
              "\n",
              "    [theme=dark] .colab-df-convert:hover {\n",
              "      background-color: #434B5C;\n",
              "      box-shadow: 0px 1px 3px 1px rgba(0, 0, 0, 0.15);\n",
              "      filter: drop-shadow(0px 1px 2px rgba(0, 0, 0, 0.3));\n",
              "      fill: #FFFFFF;\n",
              "    }\n",
              "  </style>\n",
              "\n",
              "      <script>\n",
              "        const buttonEl =\n",
              "          document.querySelector('#df-71332a28-6248-4ccb-b32a-f21010804912 button.colab-df-convert');\n",
              "        buttonEl.style.display =\n",
              "          google.colab.kernel.accessAllowed ? 'block' : 'none';\n",
              "\n",
              "        async function convertToInteractive(key) {\n",
              "          const element = document.querySelector('#df-71332a28-6248-4ccb-b32a-f21010804912');\n",
              "          const dataTable =\n",
              "            await google.colab.kernel.invokeFunction('convertToInteractive',\n",
              "                                                     [key], {});\n",
              "          if (!dataTable) return;\n",
              "\n",
              "          const docLinkHtml = 'Like what you see? Visit the ' +\n",
              "            '<a target=\"_blank\" href=https://colab.research.google.com/notebooks/data_table.ipynb>data table notebook</a>'\n",
              "            + ' to learn more about interactive tables.';\n",
              "          element.innerHTML = '';\n",
              "          dataTable['output_type'] = 'display_data';\n",
              "          await google.colab.output.renderOutput(dataTable, element);\n",
              "          const docLink = document.createElement('div');\n",
              "          docLink.innerHTML = docLinkHtml;\n",
              "          element.appendChild(docLink);\n",
              "        }\n",
              "      </script>\n",
              "    </div>\n",
              "  </div>\n",
              "  "
            ]
          },
          "metadata": {},
          "execution_count": 22
        }
      ]
    },
    {
      "cell_type": "code",
      "metadata": {
        "id": "L-_mCeHS-uNm",
        "colab": {
          "base_uri": "https://localhost:8080/",
          "height": 439
        },
        "outputId": "708b6d7a-fd24-457d-b5e6-84a4ae6ffd14"
      },
      "source": [
        "sns.barplot(df['Metric'],df['P-value'])\n",
        "plt.title('Significance of duration of songs on total orders for the following metrics')\n",
        "plt.gcf().set_size_inches(15,5)"
      ],
      "execution_count": 23,
      "outputs": [
        {
          "output_type": "stream",
          "name": "stderr",
          "text": [
            "/usr/local/lib/python3.7/dist-packages/seaborn/_decorators.py:43: FutureWarning:\n",
            "\n",
            "Pass the following variables as keyword args: x, y. From version 0.12, the only valid positional argument will be `data`, and passing other arguments without an explicit keyword will result in an error or misinterpretation.\n",
            "\n"
          ]
        },
        {
          "output_type": "display_data",
          "data": {
            "text/plain": [
              "<Figure size 1080x360 with 1 Axes>"
            ],
            "image/png": "[encoded data removed]"
          },
          "metadata": {
            "needs_background": "light"
          }
        }
      ]
    },
    {
      "cell_type": "markdown",
      "metadata": {
        "id": "Fw3ItkiXlvRV"
      },
      "source": [
        "### Conclusion\n",
        "Since after hypothesis testing for every business metric, we observed that none of them had a p-value smaller than $\\alpha$ (i.e 0.05) which means, we fail to reject the null hypothesis as there no further evidence to show the variance in number of orders based on the duration of that song for any metric."
      ]
    },
    {
      "cell_type": "code",
      "metadata": {
        "id": "NbnuS6gGK8S1"
      },
      "source": [
        ""
      ],
      "execution_count": null,
      "outputs": []
    }
  ]
}